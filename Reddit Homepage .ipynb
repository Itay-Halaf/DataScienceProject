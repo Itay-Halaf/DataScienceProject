{
 "cells": [
  {
   "cell_type": "markdown",
   "id": "7b1f9c87",
   "metadata": {},
   "source": [
    "# Introduction\n",
    "\n",
    "The goal of this exercise is to first mine/crawl/fetch data from a source and then conduct analysis and modelling on the dataset. For the data, we are going to use Reddit, which is one of the world's largest communities where people anonymously share ideas and discuss over many topics (each divided into mini-clubs called subreddits).\n",
    "\n",
    "It is often said there is a subreddit for everything! For our problem statement, we are going to focus on the homepage. The global reddit homepage is the place that is shown to all users when they visit the site. Posts on reddit have a ranking feature based on upvotes and downvotes. Ultimately, the best of the best make it to the frontpage.\n",
    "\n",
    "That's what we are trying to do with this problem statement: can we predict the upvote score or an upvote class for reddit posts on the frontpage. The idea is to crawl data, then clean it and preprocess it, derive features from it and then use all that to model it into some sort of regression."
   ]
  },
  {
   "cell_type": "code",
   "execution_count": 442,
   "id": "2416baa3",
   "metadata": {},
   "outputs": [],
   "source": [
    "# Loading Libraries\n",
    "\n",
    "import pandas as pd\n",
    "import numpy as np\n",
    "import requests\n",
    "from datetime import datetime, timezone\n",
    "import json\n",
    "import time\n",
    "from bs4 import BeautifulSoup\n",
    "from fake_useragent import UserAgent\n",
    "import seaborn as sns\n",
    "sns.set(rc={'figure.figsize':(11.7,8.27)})\n",
    "from sklearn.model_selection import train_test_split\n",
    "from sklearn.linear_model import LogisticRegression\n",
    "from sklearn.svm import SVC\n",
    "from sklearn.tree import DecisionTreeClassifier\n",
    "from sklearn.preprocessing import LabelEncoder"
   ]
  },
  {
   "cell_type": "markdown",
   "id": "98c73bc5",
   "metadata": {},
   "source": [
    "## Crawler\n",
    "\n",
    "Below, we have written a crawler to fetch data from Reddit. While we experimented with the `reddit API` and the `pushshift API`, we finally wrote a manual crawler using `BeautifulSoup`. The crawler fetches data from the `old.reddit.com` reddit homepage which is still available for users. The reasoning was because the classes are much clearer and are not the server-side rendered classes of the new reddit homepage. In any case, the crawler successfully fetches data for the top posts on the homepage for the day.\n",
    "\n",
    "The crawler performs the following tasks:\n",
    "\n",
    "- Makes the Soup (webpage HTML)\n",
    "- Gets the Next Page URL\n",
    "- Extracts Data from one page of 25 entries\n",
    "  - Title\n",
    "  - Rank\n",
    "  - Dislikes\n",
    "  - Likes\n",
    "  - Votes\n",
    "  - Timestamp\n",
    "  - Offset\n",
    "  - Author\n",
    "  - Comments\n",
    "  - Thumbnails\n",
    "  - Video Duration\n",
    "  - Has Media?\n",
    "  - Subreddit\n",
    "  - Awards Count\n",
    "  - More Awards\n",
    "- Then, the Crawler goes to the Next Page\n",
    "- This repeats till One of Three Conditions is Met:\n",
    "  - The `pages` parameter is reached\n",
    "  - The total posts end in the Time Filter\n",
    "  - 1000 posts are collected\n",
    "- The `dataset` is then returned"
   ]
  },
  {
   "cell_type": "code",
   "execution_count": 21,
   "id": "bc517dad",
   "metadata": {},
   "outputs": [],
   "source": [
    "def make_soup(url, ua):\n",
    "    \n",
    "    '''\n",
    "    This function creates and returns the BeautifulSoup object made from the UserAgent and the URL\n",
    "    \n",
    "    url - the URL to hit\n",
    "    ua - the UserAgent object\n",
    "    \n",
    "    returns - BeautifulSoup object\n",
    "    \n",
    "    '''\n",
    "    \n",
    "    r = requests.get(url, headers={'User-Agent': ua.chrome})\n",
    "    return BeautifulSoup(r.text, 'lxml')\n",
    "\n",
    "def get_next_page(soup):\n",
    "    \n",
    "    '''\n",
    "    This function finds the next page URL\n",
    "    \n",
    "    soup - the BeautifulSoup object\n",
    "    \n",
    "    returns - link (string)\n",
    "    \n",
    "    '''\n",
    "    \n",
    "    link = soup.find(\"span\", class_ = \"next-button\")\n",
    "    link = link.find(\"a\").attrs['href']\n",
    "    \n",
    "    return link\n",
    "\n",
    "def crawl_page(url, user_agent):\n",
    "    \n",
    "    '''\n",
    "    This function makes the dataset for one page and also finds the next page URL\n",
    "    \n",
    "    url - the URL to hit\n",
    "    user_agent - the UserAgent object\n",
    "    \n",
    "    returns - dataset (pandas DataFrame), next_page (string)\n",
    "    \n",
    "    '''\n",
    "    \n",
    "    soup = make_soup(url, user_agent)\n",
    "    next_page = get_next_page(soup)\n",
    "    \n",
    "    titles = soup.findAll('p', {'class': 'title'})\n",
    "    titles = [t.get_text() for t in titles]\n",
    "\n",
    "    rank = soup.findAll('span', {'class': 'rank'})\n",
    "    rank = [r.get_text() for r in rank]\n",
    "\n",
    "    dislikes = soup.findAll('div', {'class': 'score dislikes'})\n",
    "    dislikes = [d.get('title') for d in dislikes]\n",
    "\n",
    "    likes = soup.findAll('div', {'class': 'score likes'})\n",
    "    likes = [l.get('title') for l in likes]\n",
    "\n",
    "    votes = soup.findAll('div', {'class': 'score unvoted'})\n",
    "    votes = [v.get('title') for v in votes]\n",
    "\n",
    "    timestamps = soup.findAll('time')\n",
    "    offset = [t.get_text() for t in timestamps]\n",
    "    timestamps = [t.get('datetime') for t in timestamps]\n",
    "\n",
    "    authors = soup.findAll('a', {'class': 'author'})\n",
    "    authors = [a.get_text() for a in authors]\n",
    "\n",
    "    comments = soup.findAll('a', {'class': 'comments'})\n",
    "    comments = [c.get_text().split(\" \")[0] for c in comments]\n",
    "\n",
    "    thumbnails = soup.findAll('a', {'class': 'thumbnail'})\n",
    "    video_duration = [t.get_text() for t in thumbnails]\n",
    "    has_media = [True if len(t.findAll('img')) > 0 else False for t in thumbnails]\n",
    "\n",
    "    subreddit = soup.findAll('a', {'class': 'subreddit'})\n",
    "    subreddit = [s.get_text().split(\"/\")[1] for s in subreddit]\n",
    "\n",
    "    awards = soup.findAll('span', {'class': 'awardings-bar'})\n",
    "    awards = [a.findAll('a', {'class': 'awarding-link'}) for a in awards]\n",
    "    award_counts = [[int(c.get('data-count')) for c in a] for a in awards]\n",
    "    award_more = soup.findAll('a', {'class': 'awarding-show-more-link'})\n",
    "    award_more = [a.get_text().split(\" \")[1] for a in award_more]\n",
    "    award_counts = [sum(a) for a in award_counts]\n",
    "    \n",
    "    data_list = [titles, rank, dislikes, likes, votes, offset, timestamps, authors, comments, has_media, video_duration, subreddit,\n",
    "                award_counts, award_more]\n",
    "    \n",
    "    dataset = pd.concat([pd.Series(x) for x in data_list], axis=1)\n",
    "    dataset.columns = ['titles', 'rank', 'dislikes', 'likes', 'votes', 'offset', 'timestamps', 'authors', 'comments',\n",
    "                       'has_media', 'video_duration', 'subreddit', 'award_counts', 'award_more']\n",
    "    \n",
    "    return dataset, next_page\n",
    "\n",
    "def crawl_data(url, pages=40):\n",
    "    \n",
    "    '''\n",
    "    This function makes the large dataframe page-by-page\n",
    "    \n",
    "    url - the URL to hit\n",
    "    pages - the maximum pages to hit (default=40)\n",
    "    \n",
    "    returns - dataset (pandas DataFrame)\n",
    "    \n",
    "    '''\n",
    "    \n",
    "    ua = UserAgent()\n",
    "    \n",
    "    counter = 1\n",
    "    print(f'Hitting URL: {url}')\n",
    "    dataset, next_page = crawl_page(url, ua)\n",
    "    dataset = dataset[dataset['rank'] != \"\"] # remove Promoted\n",
    "    print(f'Total Rows: {dataset.shape[0]}')\n",
    "    \n",
    "    try:\n",
    "        \n",
    "        while(counter <= pages):\n",
    "        \n",
    "            time.sleep(5)\n",
    "\n",
    "            print(f'Hitting URL: {next_page}')\n",
    "            new_data, next_page = crawl_page(next_page, ua)\n",
    "            dataset = dataset.append(new_data)\n",
    "            dataset = dataset[dataset['rank'] != \"\"] # remove Promoted\n",
    "            print(f'Total Rows: {dataset.shape[0]}')\n",
    "\n",
    "            counter += 1\n",
    "\n",
    "            if (dataset.shape[0] == 1000):\n",
    "                break\n",
    "            \n",
    "    except:\n",
    "        \n",
    "        print('End of Time Filter Reached.')\n",
    "        \n",
    "    return dataset"
   ]
  },
  {
   "cell_type": "code",
   "execution_count": 22,
   "id": "cfe64960",
   "metadata": {},
   "outputs": [
    {
     "name": "stdout",
     "output_type": "stream",
     "text": [
      "Hitting URL: https://old.reddit.com/r/all/top?sort=top&t=day\n",
      "Total Rows: 25\n",
      "Hitting URL: https://old.reddit.com/r/all/top/?sort=top&t=day&count=25&after=t3_v7mxyh\n",
      "Total Rows: 50\n",
      "Hitting URL: https://old.reddit.com/r/all/top/?sort=top&t=day&count=50&after=t3_v7njis\n",
      "Total Rows: 75\n",
      "Hitting URL: https://old.reddit.com/r/all/top/?sort=top&t=day&count=75&after=t3_v7f4sz\n",
      "Total Rows: 100\n",
      "Hitting URL: https://old.reddit.com/r/all/top/?sort=top&t=day&count=100&after=t3_v7eufr\n",
      "Total Rows: 125\n",
      "Hitting URL: https://old.reddit.com/r/all/top/?sort=top&t=day&count=125&after=t3_v7uon8\n",
      "Total Rows: 150\n",
      "Hitting URL: https://old.reddit.com/r/all/top/?sort=top&t=day&count=150&after=t3_v7pcpm\n",
      "Total Rows: 175\n",
      "Hitting URL: https://old.reddit.com/r/all/top/?sort=top&t=day&count=175&after=t3_v7lyst\n",
      "Total Rows: 200\n",
      "Hitting URL: https://old.reddit.com/r/all/top/?sort=top&t=day&count=200&after=t3_v7ls1y\n",
      "Total Rows: 225\n",
      "Hitting URL: https://old.reddit.com/r/all/top/?sort=top&t=day&count=250&after=t3_v7qpvd\n",
      "Total Rows: 275\n",
      "Hitting URL: https://old.reddit.com/r/all/top/?sort=top&t=day&count=275&after=t3_v7qgck\n",
      "Total Rows: 300\n",
      "Hitting URL: https://old.reddit.com/r/all/top/?sort=top&t=day&count=300&after=t3_v7fi1c\n",
      "Total Rows: 325\n",
      "Hitting URL: https://old.reddit.com/r/all/top/?sort=top&t=day&count=325&after=t3_v7ihm4\n",
      "Total Rows: 350\n",
      "Hitting URL: https://old.reddit.com/r/all/top/?sort=top&t=day&count=350&after=t3_v7r3f3\n",
      "Total Rows: 375\n",
      "Hitting URL: https://old.reddit.com/r/all/top/?sort=top&t=day&count=375&after=t3_v7nddq\n",
      "Total Rows: 400\n",
      "Hitting URL: https://old.reddit.com/r/all/top/?sort=top&t=day&count=400&after=t3_v7kc6v\n",
      "Total Rows: 425\n",
      "Hitting URL: https://old.reddit.com/r/all/top/?sort=top&t=day&count=425&after=t3_v7mnay\n",
      "Total Rows: 450\n",
      "Hitting URL: https://old.reddit.com/r/all/top/?sort=top&t=day&count=450&after=t3_v7ooic\n",
      "Total Rows: 475\n",
      "Hitting URL: https://old.reddit.com/r/all/top/?sort=top&t=day&count=475&after=t3_v7i4q8\n",
      "Total Rows: 500\n",
      "Hitting URL: https://old.reddit.com/r/all/top/?sort=top&t=day&count=500&after=t3_v7kwbz\n",
      "Total Rows: 525\n",
      "Hitting URL: https://old.reddit.com/r/all/top/?sort=top&t=day&count=525&after=t3_v7kmhs\n",
      "Total Rows: 550\n",
      "Hitting URL: https://old.reddit.com/r/all/top/?sort=top&t=day&count=550&after=t3_v7sc6f\n",
      "Total Rows: 575\n",
      "Hitting URL: https://old.reddit.com/r/all/top/?sort=top&t=day&count=575&after=t3_v7q08x\n",
      "Total Rows: 600\n",
      "Hitting URL: https://old.reddit.com/r/all/top/?sort=top&t=day&count=600&after=t3_v7qhwj\n",
      "Total Rows: 625\n",
      "Hitting URL: https://old.reddit.com/r/all/top/?sort=top&t=day&count=625&after=t3_v7tvab\n",
      "Total Rows: 650\n",
      "Hitting URL: https://old.reddit.com/r/all/top/?sort=top&t=day&count=650&after=t3_v7bte7\n",
      "Total Rows: 675\n",
      "Hitting URL: https://old.reddit.com/r/all/top/?sort=top&t=day&count=675&after=t3_v7le2n\n",
      "Total Rows: 700\n",
      "Hitting URL: https://old.reddit.com/r/all/top/?sort=top&t=day&count=700&after=t3_v7im38\n",
      "Total Rows: 725\n",
      "Hitting URL: https://old.reddit.com/r/all/top/?sort=top&t=day&count=725&after=t3_v7vwe8\n",
      "Total Rows: 750\n",
      "Hitting URL: https://old.reddit.com/r/all/top/?sort=top&t=day&count=750&after=t3_v7kjix\n",
      "Total Rows: 775\n",
      "Hitting URL: https://old.reddit.com/r/all/top/?sort=top&t=day&count=775&after=t3_v7q8gt\n",
      "End of Time Filter Reached.\n"
     ]
    }
   ],
   "source": [
    "# Uncomment the following lines to run the crawler again\n",
    "\n",
    "# url = 'https://old.reddit.com/r/all/top?sort=top&t=day'\n",
    "# dataset = crawl_data(url)\n",
    "# dataset.to_csv('reddit_data.csv', index=False)"
   ]
  },
  {
   "cell_type": "code",
   "execution_count": 23,
   "id": "25ae8179",
   "metadata": {},
   "outputs": [],
   "source": [
    "# Comment the line below if above lines are uncommented\n",
    "\n",
    "dataset = pd.read_csv('reddit_data.csv')"
   ]
  },
  {
   "cell_type": "code",
   "execution_count": 24,
   "id": "980b839b",
   "metadata": {},
   "outputs": [
    {
     "data": {
      "text/html": [
       "<div>\n",
       "<style scoped>\n",
       "    .dataframe tbody tr th:only-of-type {\n",
       "        vertical-align: middle;\n",
       "    }\n",
       "\n",
       "    .dataframe tbody tr th {\n",
       "        vertical-align: top;\n",
       "    }\n",
       "\n",
       "    .dataframe thead th {\n",
       "        text-align: right;\n",
       "    }\n",
       "</style>\n",
       "<table border=\"1\" class=\"dataframe\">\n",
       "  <thead>\n",
       "    <tr style=\"text-align: right;\">\n",
       "      <th></th>\n",
       "      <th>titles</th>\n",
       "      <th>rank</th>\n",
       "      <th>dislikes</th>\n",
       "      <th>likes</th>\n",
       "      <th>votes</th>\n",
       "      <th>offset</th>\n",
       "      <th>timestamps</th>\n",
       "      <th>authors</th>\n",
       "      <th>comments</th>\n",
       "      <th>has_media</th>\n",
       "      <th>video_duration</th>\n",
       "      <th>subreddit</th>\n",
       "      <th>award_counts</th>\n",
       "      <th>award_more</th>\n",
       "    </tr>\n",
       "  </thead>\n",
       "  <tbody>\n",
       "    <tr>\n",
       "      <th>0</th>\n",
       "      <td>promise kept Good Vibes  (v.redd.it)</td>\n",
       "      <td>1</td>\n",
       "      <td>153468</td>\n",
       "      <td>153470</td>\n",
       "      <td>153469</td>\n",
       "      <td>13 hours ago</td>\n",
       "      <td>2022-06-08T09:39:35+00:00</td>\n",
       "      <td>55o</td>\n",
       "      <td>2011.0</td>\n",
       "      <td>True</td>\n",
       "      <td>0:59</td>\n",
       "      <td>MadeMeSmile</td>\n",
       "      <td>317.0</td>\n",
       "      <td>307.0</td>\n",
       "    </tr>\n",
       "    <tr>\n",
       "      <th>1</th>\n",
       "      <td>meirl (i.redd.it)</td>\n",
       "      <td>2</td>\n",
       "      <td>122486</td>\n",
       "      <td>122488</td>\n",
       "      <td>122487</td>\n",
       "      <td>22 hours ago</td>\n",
       "      <td>2022-06-08T00:20:29+00:00</td>\n",
       "      <td>SnooCupcakes8607</td>\n",
       "      <td>3799.0</td>\n",
       "      <td>True</td>\n",
       "      <td>NaN</td>\n",
       "      <td>MadeMeSmile</td>\n",
       "      <td>120.0</td>\n",
       "      <td>70.0</td>\n",
       "    </tr>\n",
       "    <tr>\n",
       "      <th>2</th>\n",
       "      <td>just landed my dream job... to teach people ab...</td>\n",
       "      <td>3</td>\n",
       "      <td>105697</td>\n",
       "      <td>105699</td>\n",
       "      <td>105698</td>\n",
       "      <td>9 hours ago</td>\n",
       "      <td>2022-06-08T13:17:18+00:00</td>\n",
       "      <td>jillison_flook</td>\n",
       "      <td>388.0</td>\n",
       "      <td>True</td>\n",
       "      <td>NaN</td>\n",
       "      <td>memes</td>\n",
       "      <td>38.0</td>\n",
       "      <td>27.0</td>\n",
       "    </tr>\n",
       "    <tr>\n",
       "      <th>3</th>\n",
       "      <td>I miss Rick Moranis (i.redd.it)</td>\n",
       "      <td>4</td>\n",
       "      <td>107427</td>\n",
       "      <td>107429</td>\n",
       "      <td>107428</td>\n",
       "      <td>11 hours ago</td>\n",
       "      <td>2022-06-08T11:52:23+00:00</td>\n",
       "      <td>davetowers646</td>\n",
       "      <td>1892.0</td>\n",
       "      <td>True</td>\n",
       "      <td>NaN</td>\n",
       "      <td>aww</td>\n",
       "      <td>84.0</td>\n",
       "      <td>2.0</td>\n",
       "    </tr>\n",
       "    <tr>\n",
       "      <th>4</th>\n",
       "      <td>Barely 7 am and I wake up to this HANGRY guy s...</td>\n",
       "      <td>5</td>\n",
       "      <td>87411</td>\n",
       "      <td>87413</td>\n",
       "      <td>87412</td>\n",
       "      <td>10 hours ago</td>\n",
       "      <td>2022-06-08T12:15:31+00:00</td>\n",
       "      <td>Greenveins</td>\n",
       "      <td>516.0</td>\n",
       "      <td>True</td>\n",
       "      <td>NaN</td>\n",
       "      <td>funny</td>\n",
       "      <td>28.0</td>\n",
       "      <td>10.0</td>\n",
       "    </tr>\n",
       "  </tbody>\n",
       "</table>\n",
       "</div>"
      ],
      "text/plain": [
       "                                              titles  rank  dislikes   likes  \\\n",
       "0               promise kept Good Vibes  (v.redd.it)     1    153468  153470   \n",
       "1                                  meirl (i.redd.it)     2    122486  122488   \n",
       "2  just landed my dream job... to teach people ab...     3    105697  105699   \n",
       "3                    I miss Rick Moranis (i.redd.it)     4    107427  107429   \n",
       "4  Barely 7 am and I wake up to this HANGRY guy s...     5     87411   87413   \n",
       "\n",
       "    votes        offset                 timestamps           authors  \\\n",
       "0  153469  13 hours ago  2022-06-08T09:39:35+00:00               55o   \n",
       "1  122487  22 hours ago  2022-06-08T00:20:29+00:00  SnooCupcakes8607   \n",
       "2  105698   9 hours ago  2022-06-08T13:17:18+00:00    jillison_flook   \n",
       "3  107428  11 hours ago  2022-06-08T11:52:23+00:00     davetowers646   \n",
       "4   87412  10 hours ago  2022-06-08T12:15:31+00:00        Greenveins   \n",
       "\n",
       "   comments  has_media video_duration    subreddit  award_counts  award_more  \n",
       "0    2011.0       True           0:59  MadeMeSmile         317.0       307.0  \n",
       "1    3799.0       True            NaN  MadeMeSmile         120.0        70.0  \n",
       "2     388.0       True            NaN        memes          38.0        27.0  \n",
       "3    1892.0       True            NaN          aww          84.0         2.0  \n",
       "4     516.0       True            NaN        funny          28.0        10.0  "
      ]
     },
     "execution_count": 24,
     "metadata": {},
     "output_type": "execute_result"
    }
   ],
   "source": [
    "dataset.head()"
   ]
  },
  {
   "cell_type": "code",
   "execution_count": 25,
   "id": "8b5cff32",
   "metadata": {},
   "outputs": [
    {
     "data": {
      "text/plain": [
       "(775, 14)"
      ]
     },
     "execution_count": 25,
     "metadata": {},
     "output_type": "execute_result"
    }
   ],
   "source": [
    "dataset.shape"
   ]
  },
  {
   "cell_type": "code",
   "execution_count": 34,
   "id": "7454bf50",
   "metadata": {},
   "outputs": [
    {
     "data": {
      "text/plain": [
       "['titles',\n",
       " 'rank',\n",
       " 'dislikes',\n",
       " 'likes',\n",
       " 'votes',\n",
       " 'offset',\n",
       " 'timestamps',\n",
       " 'authors',\n",
       " 'comments',\n",
       " 'has_media',\n",
       " 'video_duration',\n",
       " 'subreddit',\n",
       " 'award_counts',\n",
       " 'award_more']"
      ]
     },
     "execution_count": 34,
     "metadata": {},
     "output_type": "execute_result"
    }
   ],
   "source": [
    "dataset.columns.tolist()"
   ]
  },
  {
   "cell_type": "markdown",
   "id": "aae073f9",
   "metadata": {},
   "source": [
    "## Data Cleaning & Feature Generation\n",
    "\n",
    "For the next part, we will take the dataframe and clean it a little. We will also derive some features from the existing ones to make sure we have data that is of value. Beyond Feature Generation, we will also handle missing values as well as some other stuff."
   ]
  },
  {
   "cell_type": "code",
   "execution_count": 314,
   "id": "73980a1f",
   "metadata": {},
   "outputs": [],
   "source": [
    "new_dataset = dataset.copy()"
   ]
  },
  {
   "cell_type": "markdown",
   "id": "48929fc6",
   "metadata": {},
   "source": [
    "### Has Picture\n",
    "\n",
    "If `has_media` is `True` and if `video_duration` is `NaN`, that means the media is a picture."
   ]
  },
  {
   "cell_type": "code",
   "execution_count": 315,
   "id": "ce1d4344",
   "metadata": {},
   "outputs": [],
   "source": [
    "new_dataset.loc[(new_dataset.has_media == True) & (pd.isna(new_dataset.video_duration)), 'has_picture'] = True"
   ]
  },
  {
   "cell_type": "code",
   "execution_count": 316,
   "id": "0a87ab84",
   "metadata": {},
   "outputs": [],
   "source": [
    "new_dataset.has_picture.fillna(False, inplace=True)"
   ]
  },
  {
   "cell_type": "markdown",
   "id": "811ad54b",
   "metadata": {},
   "source": [
    "### Total Awards\n",
    "\n",
    "The way the data is structured on the website, it is difficult to add total awards and awards in the more section. We will do that addition now."
   ]
  },
  {
   "cell_type": "code",
   "execution_count": 393,
   "id": "42705372",
   "metadata": {},
   "outputs": [],
   "source": [
    "new_dataset['award_counts'].fillna(0, inplace=True)\n",
    "new_dataset['award_more'].fillna(0, inplace=True)\n",
    "new_dataset['total_awards'] = new_dataset['award_counts'] + new_dataset['award_more']\n",
    "new_dataset.drop(['award_counts', 'award_more'], axis=1, inplace=True)"
   ]
  },
  {
   "cell_type": "markdown",
   "id": "0ad014a3",
   "metadata": {},
   "source": [
    "### Offset\n",
    "\n",
    "Offset is the timestamp measure of how long ago something was posted. This variable is more informative than timestamp. We will remove timestamp and clean this variable instead."
   ]
  },
  {
   "cell_type": "code",
   "execution_count": 318,
   "id": "f6744fd7",
   "metadata": {},
   "outputs": [],
   "source": [
    "new_dataset.drop('timestamps', axis=1, inplace=True)"
   ]
  },
  {
   "cell_type": "code",
   "execution_count": 319,
   "id": "eca343b9",
   "metadata": {},
   "outputs": [],
   "source": [
    "new_dataset['offset'].fillna(\"0 hours ago\", inplace=True)\n",
    "new_dataset['offset'] = new_dataset['offset'].str.replace(\"hours ago\", \"\")"
   ]
  },
  {
   "cell_type": "code",
   "execution_count": 320,
   "id": "8732fa62",
   "metadata": {},
   "outputs": [],
   "source": [
    "new_dataset['offset'] = new_dataset['offset'].replace({'\\*': 0}, regex=True)\n",
    "new_dataset['offset'] = new_dataset['offset'].astype('int')"
   ]
  },
  {
   "cell_type": "markdown",
   "id": "443dd155",
   "metadata": {},
   "source": [
    "### Like-Dislike Ratio\n",
    "\n",
    "Since we have both likes and dislikes, we will convert them into a ratio to make the variables more informative."
   ]
  },
  {
   "cell_type": "code",
   "execution_count": 321,
   "id": "16cbc756",
   "metadata": {},
   "outputs": [],
   "source": [
    "new_dataset['like_dislike'] = new_dataset['likes'] / new_dataset['dislikes']"
   ]
  },
  {
   "cell_type": "code",
   "execution_count": 322,
   "id": "d87fbbee",
   "metadata": {},
   "outputs": [],
   "source": [
    "new_dataset.drop(['likes', 'dislikes'], axis=1, inplace=True)"
   ]
  },
  {
   "cell_type": "markdown",
   "id": "1c87ac60",
   "metadata": {},
   "source": [
    "### Video Duration (in secs)\n",
    "\n",
    "The video duration column has timestamps mm:ss for the video durations. We will convert this to seconds only."
   ]
  },
  {
   "cell_type": "code",
   "execution_count": 323,
   "id": "231abf73",
   "metadata": {},
   "outputs": [],
   "source": [
    "new_dataset['video_duration'].fillna(\"0:00\", inplace=True)\n",
    "video_duration = new_dataset[\"video_duration\"].str.split(\":\", expand=True)\n",
    "video_duration['video_duration_secs'] = video_duration[0].astype(int) * 60 + video_duration[1].astype(int)"
   ]
  },
  {
   "cell_type": "code",
   "execution_count": 324,
   "id": "986258b4",
   "metadata": {},
   "outputs": [],
   "source": [
    "new_dataset['video_duration_secs'] = video_duration['video_duration_secs']"
   ]
  },
  {
   "cell_type": "code",
   "execution_count": 325,
   "id": "6112d357",
   "metadata": {},
   "outputs": [],
   "source": [
    "new_dataset.drop('video_duration', axis=1, inplace=True)"
   ]
  },
  {
   "cell_type": "markdown",
   "id": "375f1382",
   "metadata": {},
   "source": [
    "### Title Character Counts\n",
    "\n",
    "The title character has a title and a link. We will split it into the two and then calculate the length of characters for the first bit."
   ]
  },
  {
   "cell_type": "code",
   "execution_count": 326,
   "id": "e1913316",
   "metadata": {},
   "outputs": [],
   "source": [
    "new_dataset['titles'] = new_dataset.titles.apply(lambda x: x.split(\"(\")[0])\n",
    "new_dataset['title_characters'] = new_dataset.titles.apply(len)"
   ]
  },
  {
   "cell_type": "markdown",
   "id": "2a572059",
   "metadata": {},
   "source": [
    "### Title Word Count\n",
    "\n",
    "Like the variable above, we are going to calculate the word counts (based on spaces)."
   ]
  },
  {
   "cell_type": "code",
   "execution_count": 327,
   "id": "22d527b9",
   "metadata": {},
   "outputs": [],
   "source": [
    "new_dataset['title_word_count'] = new_dataset.titles.str.split().str.len()"
   ]
  },
  {
   "cell_type": "code",
   "execution_count": 328,
   "id": "9d6e39f5",
   "metadata": {},
   "outputs": [],
   "source": [
    "new_dataset.drop('titles', axis=1, inplace=True)"
   ]
  },
  {
   "cell_type": "markdown",
   "id": "1b67975b",
   "metadata": {},
   "source": [
    "### Author Name Count\n",
    "\n",
    "The author name does not give us much info but a shorter author name is easier to pronounce/read. Maybe that gives some information."
   ]
  },
  {
   "cell_type": "code",
   "execution_count": 329,
   "id": "861afd3f",
   "metadata": {},
   "outputs": [],
   "source": [
    "new_dataset['author_name_count'] = new_dataset.authors.apply(len)"
   ]
  },
  {
   "cell_type": "code",
   "execution_count": 330,
   "id": "a4463e31",
   "metadata": {},
   "outputs": [],
   "source": [
    "new_dataset.drop('authors', axis=1, inplace=True)"
   ]
  },
  {
   "cell_type": "markdown",
   "id": "80f4c3a0",
   "metadata": {},
   "source": [
    "### Dropping Rank\n",
    "\n",
    "We don't need the rank since it is an explicit measure of the votes itself. To use it in the model will be overfitting it."
   ]
  },
  {
   "cell_type": "code",
   "execution_count": 331,
   "id": "2b2b7563",
   "metadata": {},
   "outputs": [],
   "source": [
    "new_dataset.drop('rank', axis=1, inplace=True)"
   ]
  },
  {
   "cell_type": "markdown",
   "id": "9a3c2fec",
   "metadata": {},
   "source": [
    "### One-Hot Encoding Subreddits\n",
    "\n",
    "We are going to create dummy variables from the subreddit column."
   ]
  },
  {
   "cell_type": "code",
   "execution_count": 332,
   "id": "ce3bbc6f",
   "metadata": {},
   "outputs": [],
   "source": [
    "new_dataset = pd.concat([new_dataset,\n",
    "                        pd.get_dummies(new_dataset['subreddit'], prefix='sub_')],\n",
    "                        axis=1)"
   ]
  },
  {
   "cell_type": "code",
   "execution_count": 333,
   "id": "190c32d9",
   "metadata": {},
   "outputs": [],
   "source": [
    "new_dataset.drop('subreddit', inplace=True, axis=1)"
   ]
  },
  {
   "cell_type": "markdown",
   "id": "90127d75",
   "metadata": {},
   "source": [
    "### Creating Groups for Votes\n",
    "\n",
    "While a strict regression is a great idea, it is difficult to measure accuracy and results. It is easier to predict whether the prediction falls within a range. Hence, we will encode the `votes` to groups."
   ]
  },
  {
   "cell_type": "code",
   "execution_count": 334,
   "id": "f075094c",
   "metadata": {},
   "outputs": [
    {
     "data": {
      "text/plain": [
       "3810"
      ]
     },
     "execution_count": 334,
     "metadata": {},
     "output_type": "execute_result"
    }
   ],
   "source": [
    "min(new_dataset.votes)"
   ]
  },
  {
   "cell_type": "code",
   "execution_count": 335,
   "id": "a0326ddc",
   "metadata": {},
   "outputs": [
    {
     "data": {
      "text/plain": [
       "153469"
      ]
     },
     "execution_count": 335,
     "metadata": {},
     "output_type": "execute_result"
    }
   ],
   "source": [
    "max(new_dataset.votes)"
   ]
  },
  {
   "cell_type": "code",
   "execution_count": 336,
   "id": "040cc5fe",
   "metadata": {},
   "outputs": [],
   "source": [
    "bins = pd.interval_range(start=min(new_dataset.votes)-1, freq=10000, end=max(new_dataset.votes)+10000, closed='left')"
   ]
  },
  {
   "cell_type": "code",
   "execution_count": 337,
   "id": "90ddedca",
   "metadata": {},
   "outputs": [
    {
     "data": {
      "text/plain": [
       "IntervalIndex([[3809, 13809), [13809, 23809), [23809, 33809), [33809, 43809), [43809, 53809) ... [103809, 113809), [113809, 123809), [123809, 133809), [133809, 143809), [143809, 153809)],\n",
       "              closed='left',\n",
       "              dtype='interval[int64]')"
      ]
     },
     "execution_count": 337,
     "metadata": {},
     "output_type": "execute_result"
    }
   ],
   "source": [
    "bins"
   ]
  },
  {
   "cell_type": "code",
   "execution_count": 338,
   "id": "be351e9a",
   "metadata": {},
   "outputs": [],
   "source": [
    "new_dataset['votes_bin'] = pd.cut(new_dataset.votes, bins = bins)"
   ]
  },
  {
   "cell_type": "code",
   "execution_count": 339,
   "id": "97b69798",
   "metadata": {},
   "outputs": [],
   "source": [
    "new_dataset.drop('votes', inplace=True, axis=1)"
   ]
  },
  {
   "cell_type": "markdown",
   "id": "d2c5189d",
   "metadata": {},
   "source": [
    "## Exploratory Data Analysis\n",
    "\n",
    "For each of the features above, we will plot and do some kind of exploratory analysis."
   ]
  },
  {
   "cell_type": "markdown",
   "id": "445c2c46",
   "metadata": {},
   "source": [
    "### Has Picture"
   ]
  },
  {
   "cell_type": "code",
   "execution_count": 377,
   "id": "5c96ca9d",
   "metadata": {},
   "outputs": [
    {
     "name": "stderr",
     "output_type": "stream",
     "text": [
      "<string>:6: RuntimeWarning: Converting input from bool to <class 'numpy.uint8'> for compatibility.\n",
      "<string>:6: RuntimeWarning: Converting input from bool to <class 'numpy.uint8'> for compatibility.\n"
     ]
    },
    {
     "data": {
      "text/plain": [
       "<AxesSubplot:xlabel='has_picture', ylabel='Count'>"
      ]
     },
     "execution_count": 377,
     "metadata": {},
     "output_type": "execute_result"
    },
    {
     "data": {
      "image/png": "[encoded data removed]",
      "text/plain": [
       "<Figure size 842.4x595.44 with 1 Axes>"
      ]
     },
     "metadata": {},
     "output_type": "display_data"
    }
   ],
   "source": [
    "sns.histplot(new_dataset.has_picture)"
   ]
  },
  {
   "cell_type": "markdown",
   "id": "239802c8",
   "metadata": {},
   "source": [
    "We can see that roughly 250 posts don't have a picture while about 500 of them do. Let's compare and contrast this with `has_media`."
   ]
  },
  {
   "cell_type": "markdown",
   "id": "af7a9919",
   "metadata": {},
   "source": [
    "### Has Media"
   ]
  },
  {
   "cell_type": "code",
   "execution_count": 378,
   "id": "0813ae6f",
   "metadata": {},
   "outputs": [
    {
     "name": "stderr",
     "output_type": "stream",
     "text": [
      "<string>:6: RuntimeWarning: Converting input from bool to <class 'numpy.uint8'> for compatibility.\n",
      "<string>:6: RuntimeWarning: Converting input from bool to <class 'numpy.uint8'> for compatibility.\n"
     ]
    },
    {
     "data": {
      "text/plain": [
       "<AxesSubplot:xlabel='has_media', ylabel='Count'>"
      ]
     },
     "execution_count": 378,
     "metadata": {},
     "output_type": "execute_result"
    },
    {
     "data": {
      "image/png": "[encoded data removed]",
      "text/plain": [
       "<Figure size 842.4x595.44 with 1 Axes>"
      ]
     },
     "metadata": {},
     "output_type": "display_data"
    }
   ],
   "source": [
    "sns.histplot(new_dataset.has_media)"
   ]
  },
  {
   "cell_type": "markdown",
   "id": "b24b039c",
   "metadata": {},
   "source": [
    "The difference between `has_picture` and `has_media` is the posts with videos instead. Let's look at how the `video_duration_secs` is distributed."
   ]
  },
  {
   "cell_type": "markdown",
   "id": "2d8dc71c",
   "metadata": {},
   "source": [
    "### Video Duration (in seconds)"
   ]
  },
  {
   "cell_type": "code",
   "execution_count": 379,
   "id": "6637e937",
   "metadata": {},
   "outputs": [
    {
     "data": {
      "text/plain": [
       "<AxesSubplot:xlabel='video_duration_secs', ylabel='Count'>"
      ]
     },
     "execution_count": 379,
     "metadata": {},
     "output_type": "execute_result"
    },
    {
     "data": {
      "image/png": "[encoded data removed]",
      "text/plain": [
       "<Figure size 842.4x595.44 with 1 Axes>"
      ]
     },
     "metadata": {},
     "output_type": "display_data"
    }
   ],
   "source": [
    "sns.histplot(new_dataset[new_dataset.video_duration_secs > 0].video_duration_secs)"
   ]
  },
  {
   "cell_type": "code",
   "execution_count": 380,
   "id": "9e8a87fc",
   "metadata": {},
   "outputs": [
    {
     "name": "stderr",
     "output_type": "code",
     "text": [
      "C:\\Users\\Daniel\\anaconda3\\envs\\stocks\\lib\\site-packages\\seaborn\\_decorators.py:43: FutureWarning: Pass the following variable as a keyword arg: x. From version 0.12, the only valid positional argument will be `data`, and passing other arguments without an explicit keyword will result in an error or misinterpretation.\n",
      "  FutureWarning\n"
     ]
    },
    {
     "data": {
      "text/plain": [
       "<AxesSubplot:xlabel='video_duration_secs'>"
      ]
     },
     "execution_count": 380,
     "metadata": {},
     "output_type": "execute_result"
    },
    {
     "data": {
      "image/png": "[encoded data removed]",
      "text/plain": [
       "<Figure size 842.4x595.44 with 1 Axes>"
      ]
     },
     "metadata": {},
     "output_type": "display_data"
    }
   ],
   "source": [
    "sns.boxplot(new_dataset[new_dataset.video_duration_secs > 0].video_duration_secs)"
   ]
  },
  {
   "cell_type": "markdown",
   "id": "bf798036",
   "metadata": {},
   "source": [
    "Most videos are shorter than `60` seconds or a minute. A few outliers exist but beyon that the data is heavily left-skewed. In fact, the median is closer to 0 than it is to 60."
   ]
  },
  {
   "cell_type": "code",
   "execution_count": 381,
   "id": "ab7af91f",
   "metadata": {},
   "outputs": [
    {
     "data": {
      "text/html": [
       "<div>\n",
       "<style scoped>\n",
       "    .dataframe tbody tr th:only-of-type {\n",
       "        vertical-align: middle;\n",
       "    }\n",
       "\n",
       "    .dataframe tbody tr th {\n",
       "        vertical-align: top;\n",
       "    }\n",
       "\n",
       "    .dataframe thead th {\n",
       "        text-align: right;\n",
       "    }\n",
       "</style>\n",
       "<table border=\"1\" class=\"dataframe\">\n",
       "  <thead>\n",
       "    <tr style=\"text-align: right;\">\n",
       "      <th></th>\n",
       "      <th>video_duration_secs</th>\n",
       "    </tr>\n",
       "  </thead>\n",
       "  <tbody>\n",
       "    <tr>\n",
       "      <th>count</th>\n",
       "      <td>172.000000</td>\n",
       "    </tr>\n",
       "    <tr>\n",
       "      <th>mean</th>\n",
       "      <td>38.343023</td>\n",
       "    </tr>\n",
       "    <tr>\n",
       "      <th>std</th>\n",
       "      <td>47.970188</td>\n",
       "    </tr>\n",
       "    <tr>\n",
       "      <th>min</th>\n",
       "      <td>2.000000</td>\n",
       "    </tr>\n",
       "    <tr>\n",
       "      <th>25%</th>\n",
       "      <td>13.000000</td>\n",
       "    </tr>\n",
       "    <tr>\n",
       "      <th>50%</th>\n",
       "      <td>27.500000</td>\n",
       "    </tr>\n",
       "    <tr>\n",
       "      <th>75%</th>\n",
       "      <td>47.000000</td>\n",
       "    </tr>\n",
       "    <tr>\n",
       "      <th>max</th>\n",
       "      <td>438.000000</td>\n",
       "    </tr>\n",
       "  </tbody>\n",
       "</table>\n",
       "</div>"
      ],
      "text/plain": [
       "       video_duration_secs\n",
       "count           172.000000\n",
       "mean             38.343023\n",
       "std              47.970188\n",
       "min               2.000000\n",
       "25%              13.000000\n",
       "50%              27.500000\n",
       "75%              47.000000\n",
       "max             438.000000"
      ]
     },
     "execution_count": 381,
     "metadata": {},
     "output_type": "execute_result"
    }
   ],
   "source": [
    "pd.DataFrame(new_dataset[new_dataset.video_duration_secs > 0].video_duration_secs.describe())"
   ]
  },
  {
   "cell_type": "markdown",
   "id": "237b8d42",
   "metadata": {},
   "source": [
    "Let's view the `total_awards` variable."
   ]
  },
  {
   "cell_type": "markdown",
   "id": "085d5a2d",
   "metadata": {},
   "source": [
    "### Total Awards"
   ]
  },
  {
   "cell_type": "code",
   "execution_count": 382,
   "id": "fdfe8cb0",
   "metadata": {},
   "outputs": [
    {
     "data": {
      "text/plain": [
       "<AxesSubplot:xlabel='total_awards', ylabel='Count'>"
      ]
     },
     "execution_count": 382,
     "metadata": {},
     "output_type": "execute_result"
    },
    {
     "data": {
      "image/png": "[encoded data removed]",
      "text/plain": [
       "<Figure size 842.4x595.44 with 1 Axes>"
      ]
     },
     "metadata": {},
     "output_type": "display_data"
    }
   ],
   "source": [
    "sns.histplot(new_dataset.total_awards)"
   ]
  },
  {
   "cell_type": "code",
   "execution_count": 383,
   "id": "bebb9414",
   "metadata": {},
   "outputs": [
    {
     "name": "stderr",
     "output_type": "code",
     "text": [
      "C:\\Users\\Daniel\\anaconda3\\envs\\stocks\\lib\\site-packages\\seaborn\\_decorators.py:43: FutureWarning: Pass the following variable as a keyword arg: x. From version 0.12, the only valid positional argument will be `data`, and passing other arguments without an explicit keyword will result in an error or misinterpretation.\n",
      "  FutureWarning\n"
     ]
    },
    {
     "data": {
      "text/plain": [
       "<AxesSubplot:xlabel='total_awards'>"
      ]
     },
     "execution_count": 383,
     "metadata": {},
     "output_type": "execute_result"
    },
    {
     "data": {
      "image/png": "[encoded data removed]",
      "text/plain": [
       "<Figure size 842.4x595.44 with 1 Axes>"
      ]
     },
     "metadata": {},
     "output_type": "display_data"
    }
   ],
   "source": [
    "sns.boxplot(new_dataset.total_awards)"
   ]
  },
  {
   "cell_type": "code",
   "execution_count": 384,
   "id": "7bd6cc8b",
   "metadata": {},
   "outputs": [
    {
     "data": {
      "text/html": [
       "<div>\n",
       "<style scoped>\n",
       "    .dataframe tbody tr th:only-of-type {\n",
       "        vertical-align: middle;\n",
       "    }\n",
       "\n",
       "    .dataframe tbody tr th {\n",
       "        vertical-align: top;\n",
       "    }\n",
       "\n",
       "    .dataframe thead th {\n",
       "        text-align: right;\n",
       "    }\n",
       "</style>\n",
       "<table border=\"1\" class=\"dataframe\">\n",
       "  <thead>\n",
       "    <tr style=\"text-align: right;\">\n",
       "      <th></th>\n",
       "      <th>total_awards</th>\n",
       "    </tr>\n",
       "  </thead>\n",
       "  <tbody>\n",
       "    <tr>\n",
       "      <th>count</th>\n",
       "      <td>775.000000</td>\n",
       "    </tr>\n",
       "    <tr>\n",
       "      <th>mean</th>\n",
       "      <td>8.406452</td>\n",
       "    </tr>\n",
       "    <tr>\n",
       "      <th>std</th>\n",
       "      <td>33.316371</td>\n",
       "    </tr>\n",
       "    <tr>\n",
       "      <th>min</th>\n",
       "      <td>0.000000</td>\n",
       "    </tr>\n",
       "    <tr>\n",
       "      <th>25%</th>\n",
       "      <td>1.000000</td>\n",
       "    </tr>\n",
       "    <tr>\n",
       "      <th>50%</th>\n",
       "      <td>2.000000</td>\n",
       "    </tr>\n",
       "    <tr>\n",
       "      <th>75%</th>\n",
       "      <td>5.500000</td>\n",
       "    </tr>\n",
       "    <tr>\n",
       "      <th>max</th>\n",
       "      <td>624.000000</td>\n",
       "    </tr>\n",
       "  </tbody>\n",
       "</table>\n",
       "</div>"
      ],
      "text/plain": [
       "       total_awards\n",
       "count    775.000000\n",
       "mean       8.406452\n",
       "std       33.316371\n",
       "min        0.000000\n",
       "25%        1.000000\n",
       "50%        2.000000\n",
       "75%        5.500000\n",
       "max      624.000000"
      ]
     },
     "execution_count": 384,
     "metadata": {},
     "output_type": "execute_result"
    }
   ],
   "source": [
    "pd.DataFrame(new_dataset.total_awards.describe())"
   ]
  },
  {
   "cell_type": "markdown",
   "id": "667a22df",
   "metadata": {},
   "source": [
    "Most posts don't have awards. In fact, we can see that till the 75th quantile, the awards is 5.5 or ~6 which leaps to 624 to the 100th quantile. In other words, this suggests that awards are a unique property, which may influence a lot over the votes."
   ]
  },
  {
   "cell_type": "markdown",
   "id": "5271d7e0",
   "metadata": {},
   "source": [
    "### Offset"
   ]
  },
  {
   "cell_type": "code",
   "execution_count": 385,
   "id": "5bd3d09c",
   "metadata": {},
   "outputs": [
    {
     "data": {
      "text/plain": [
       "<AxesSubplot:xlabel='offset', ylabel='Count'>"
      ]
     },
     "execution_count": 385,
     "metadata": {},
     "output_type": "execute_result"
    },
    {
     "data": {
      "image/png": "[encoded data removed]",
      "text/plain": [
       "<Figure size 842.4x595.44 with 1 Axes>"
      ]
     },
     "metadata": {},
     "output_type": "display_data"
    }
   ],
   "source": [
    "sns.histplot(new_dataset.offset)"
   ]
  },
  {
   "cell_type": "markdown",
   "id": "eab625c1",
   "metadata": {},
   "source": [
    "Most posts are older than 20 hours on the homepage. This is an interesting distribution. It suggests there is a timeline 0-5 hours where only few posts make it to the homepage."
   ]
  },
  {
   "cell_type": "markdown",
   "id": "cc9ae679",
   "metadata": {},
   "source": [
    "### Title Character Counts"
   ]
  },
  {
   "cell_type": "code",
   "execution_count": 386,
   "id": "1d6f279a",
   "metadata": {},
   "outputs": [
    {
     "data": {
      "text/plain": [
       "<AxesSubplot:xlabel='title_characters', ylabel='Count'>"
      ]
     },
     "execution_count": 386,
     "metadata": {},
     "output_type": "execute_result"
    },
    {
     "data": {
      "image/png": "[encoded data removed]",
      "text/plain": [
       "<Figure size 842.4x595.44 with 1 Axes>"
      ]
     },
     "metadata": {},
     "output_type": "display_data"
    }
   ],
   "source": [
    "sns.histplot(new_dataset.title_characters)"
   ]
  },
  {
   "cell_type": "markdown",
   "id": "9deaaaa0",
   "metadata": {},
   "source": [
    "Most titles are within 0-50 characters. This seems to be the sweet spot in the distribution."
   ]
  },
  {
   "cell_type": "markdown",
   "id": "5e9223b0",
   "metadata": {},
   "source": [
    "### Title Words"
   ]
  },
  {
   "cell_type": "code",
   "execution_count": 387,
   "id": "d0164b37",
   "metadata": {},
   "outputs": [
    {
     "data": {
      "text/plain": [
       "<AxesSubplot:xlabel='title_word_count', ylabel='Count'>"
      ]
     },
     "execution_count": 387,
     "metadata": {},
     "output_type": "execute_result"
    },
    {
     "data": {
      "image/png": "[encoded data removed]",
      "text/plain": [
       "<Figure size 842.4x595.44 with 1 Axes>"
      ]
     },
     "metadata": {},
     "output_type": "display_data"
    }
   ],
   "source": [
    "sns.histplot(new_dataset.title_word_count)"
   ]
  },
  {
   "cell_type": "markdown",
   "id": "9523e524",
   "metadata": {},
   "source": [
    "Most titles have roughly 5-6 words. Almost all posts have titles with 0-10 words."
   ]
  },
  {
   "cell_type": "markdown",
   "id": "7ce6535a",
   "metadata": {},
   "source": [
    "### Author Name Count"
   ]
  },
  {
   "cell_type": "code",
   "execution_count": 388,
   "id": "eda81b20",
   "metadata": {},
   "outputs": [
    {
     "data": {
      "text/plain": [
       "<AxesSubplot:xlabel='author_name_count', ylabel='Count'>"
      ]
     },
     "execution_count": 388,
     "metadata": {},
     "output_type": "execute_result"
    },
    {
     "data": {
      "image/png": "[encoded data removed]",
      "text/plain": [
       "<Figure size 842.4x595.44 with 1 Axes>"
      ]
     },
     "metadata": {},
     "output_type": "display_data"
    }
   ],
   "source": [
    "sns.histplot(new_dataset.author_name_count)"
   ]
  },
  {
   "cell_type": "markdown",
   "id": "9ef4f444",
   "metadata": {},
   "source": [
    "Most author names have 8 characters in them. The maximum seems to be 20."
   ]
  },
  {
   "cell_type": "markdown",
   "id": "0f1340ea",
   "metadata": {},
   "source": [
    "### Like-Dislike Ratio"
   ]
  },
  {
   "cell_type": "code",
   "execution_count": 389,
   "id": "2b5461d7",
   "metadata": {},
   "outputs": [
    {
     "data": {
      "text/plain": [
       "<AxesSubplot:xlabel='like_dislike', ylabel='Count'>"
      ]
     },
     "execution_count": 389,
     "metadata": {},
     "output_type": "execute_result"
    },
    {
     "data": {
      "image/png": "[encoded data removed]",
      "text/plain": [
       "<Figure size 842.4x595.44 with 1 Axes>"
      ]
     },
     "metadata": {},
     "output_type": "display_data"
    }
   ],
   "source": [
    "sns.histplot(new_dataset.like_dislike)"
   ]
  },
  {
   "cell_type": "markdown",
   "id": "1bbb0689",
   "metadata": {},
   "source": [
    "The like dislike ratio is evenly distributed for all values. From a modelling perspective, this does not seem to have a lot of information in it."
   ]
  },
  {
   "cell_type": "markdown",
   "id": "1a50b690",
   "metadata": {},
   "source": [
    "## Correlation\n",
    "\n",
    "We will check for correlation in the data barring the subreddit one-hot encoding values."
   ]
  },
  {
   "cell_type": "code",
   "execution_count": 396,
   "id": "505f5bd7",
   "metadata": {},
   "outputs": [],
   "source": [
    "corr_set = new_dataset[['offset','comments','has_media', 'has_picture','total_awards','like_dislike','video_duration_secs','title_characters','title_word_count','author_name_count']]"
   ]
  },
  {
   "cell_type": "code",
   "execution_count": 397,
   "id": "efe3d0d5",
   "metadata": {},
   "outputs": [
    {
     "data": {
      "text/html": [
       "<div>\n",
       "<style scoped>\n",
       "    .dataframe tbody tr th:only-of-type {\n",
       "        vertical-align: middle;\n",
       "    }\n",
       "\n",
       "    .dataframe tbody tr th {\n",
       "        vertical-align: top;\n",
       "    }\n",
       "\n",
       "    .dataframe thead th {\n",
       "        text-align: right;\n",
       "    }\n",
       "</style>\n",
       "<table border=\"1\" class=\"dataframe\">\n",
       "  <thead>\n",
       "    <tr style=\"text-align: right;\">\n",
       "      <th></th>\n",
       "      <th>offset</th>\n",
       "      <th>comments</th>\n",
       "      <th>has_media</th>\n",
       "      <th>has_picture</th>\n",
       "      <th>total_awards</th>\n",
       "      <th>like_dislike</th>\n",
       "      <th>video_duration_secs</th>\n",
       "      <th>title_characters</th>\n",
       "      <th>title_word_count</th>\n",
       "      <th>author_name_count</th>\n",
       "    </tr>\n",
       "  </thead>\n",
       "  <tbody>\n",
       "    <tr>\n",
       "      <th>offset</th>\n",
       "      <td>1.000000</td>\n",
       "      <td>-0.066948</td>\n",
       "      <td>0.064079</td>\n",
       "      <td>-0.020915</td>\n",
       "      <td>0.049576</td>\n",
       "      <td>-0.038523</td>\n",
       "      <td>-0.003203</td>\n",
       "      <td>-0.085722</td>\n",
       "      <td>-0.077588</td>\n",
       "      <td>0.025418</td>\n",
       "    </tr>\n",
       "    <tr>\n",
       "      <th>comments</th>\n",
       "      <td>-0.066948</td>\n",
       "      <td>1.000000</td>\n",
       "      <td>-0.005923</td>\n",
       "      <td>-0.044976</td>\n",
       "      <td>0.162925</td>\n",
       "      <td>-0.285970</td>\n",
       "      <td>0.032368</td>\n",
       "      <td>-0.007059</td>\n",
       "      <td>-0.020964</td>\n",
       "      <td>0.058582</td>\n",
       "    </tr>\n",
       "    <tr>\n",
       "      <th>has_media</th>\n",
       "      <td>0.064079</td>\n",
       "      <td>-0.005923</td>\n",
       "      <td>1.000000</td>\n",
       "      <td>0.467639</td>\n",
       "      <td>0.016285</td>\n",
       "      <td>-0.086424</td>\n",
       "      <td>0.097163</td>\n",
       "      <td>-0.286383</td>\n",
       "      <td>-0.276914</td>\n",
       "      <td>-0.033962</td>\n",
       "    </tr>\n",
       "    <tr>\n",
       "      <th>has_picture</th>\n",
       "      <td>-0.020915</td>\n",
       "      <td>-0.044976</td>\n",
       "      <td>0.467639</td>\n",
       "      <td>1.000000</td>\n",
       "      <td>-0.026814</td>\n",
       "      <td>-0.011165</td>\n",
       "      <td>-0.457618</td>\n",
       "      <td>-0.101832</td>\n",
       "      <td>-0.101093</td>\n",
       "      <td>0.007007</td>\n",
       "    </tr>\n",
       "    <tr>\n",
       "      <th>total_awards</th>\n",
       "      <td>0.049576</td>\n",
       "      <td>0.162925</td>\n",
       "      <td>0.016285</td>\n",
       "      <td>-0.026814</td>\n",
       "      <td>1.000000</td>\n",
       "      <td>-0.221680</td>\n",
       "      <td>0.031861</td>\n",
       "      <td>-0.033702</td>\n",
       "      <td>-0.035036</td>\n",
       "      <td>-0.030845</td>\n",
       "    </tr>\n",
       "    <tr>\n",
       "      <th>like_dislike</th>\n",
       "      <td>-0.038523</td>\n",
       "      <td>-0.285970</td>\n",
       "      <td>-0.086424</td>\n",
       "      <td>-0.011165</td>\n",
       "      <td>-0.221680</td>\n",
       "      <td>1.000000</td>\n",
       "      <td>-0.096547</td>\n",
       "      <td>0.060570</td>\n",
       "      <td>0.058256</td>\n",
       "      <td>-0.006475</td>\n",
       "    </tr>\n",
       "    <tr>\n",
       "      <th>video_duration_secs</th>\n",
       "      <td>-0.003203</td>\n",
       "      <td>0.032368</td>\n",
       "      <td>0.097163</td>\n",
       "      <td>-0.457618</td>\n",
       "      <td>0.031861</td>\n",
       "      <td>-0.096547</td>\n",
       "      <td>1.000000</td>\n",
       "      <td>0.022899</td>\n",
       "      <td>0.023103</td>\n",
       "      <td>0.004087</td>\n",
       "    </tr>\n",
       "    <tr>\n",
       "      <th>title_characters</th>\n",
       "      <td>-0.085722</td>\n",
       "      <td>-0.007059</td>\n",
       "      <td>-0.286383</td>\n",
       "      <td>-0.101832</td>\n",
       "      <td>-0.033702</td>\n",
       "      <td>0.060570</td>\n",
       "      <td>0.022899</td>\n",
       "      <td>1.000000</td>\n",
       "      <td>0.978673</td>\n",
       "      <td>-0.033689</td>\n",
       "    </tr>\n",
       "    <tr>\n",
       "      <th>title_word_count</th>\n",
       "      <td>-0.077588</td>\n",
       "      <td>-0.020964</td>\n",
       "      <td>-0.276914</td>\n",
       "      <td>-0.101093</td>\n",
       "      <td>-0.035036</td>\n",
       "      <td>0.058256</td>\n",
       "      <td>0.023103</td>\n",
       "      <td>0.978673</td>\n",
       "      <td>1.000000</td>\n",
       "      <td>-0.028335</td>\n",
       "    </tr>\n",
       "    <tr>\n",
       "      <th>author_name_count</th>\n",
       "      <td>0.025418</td>\n",
       "      <td>0.058582</td>\n",
       "      <td>-0.033962</td>\n",
       "      <td>0.007007</td>\n",
       "      <td>-0.030845</td>\n",
       "      <td>-0.006475</td>\n",
       "      <td>0.004087</td>\n",
       "      <td>-0.033689</td>\n",
       "      <td>-0.028335</td>\n",
       "      <td>1.000000</td>\n",
       "    </tr>\n",
       "  </tbody>\n",
       "</table>\n",
       "</div>"
      ],
      "text/plain": [
       "                       offset  comments  has_media  has_picture  total_awards  \\\n",
       "offset               1.000000 -0.066948   0.064079    -0.020915      0.049576   \n",
       "comments            -0.066948  1.000000  -0.005923    -0.044976      0.162925   \n",
       "has_media            0.064079 -0.005923   1.000000     0.467639      0.016285   \n",
       "has_picture         -0.020915 -0.044976   0.467639     1.000000     -0.026814   \n",
       "total_awards         0.049576  0.162925   0.016285    -0.026814      1.000000   \n",
       "like_dislike        -0.038523 -0.285970  -0.086424    -0.011165     -0.221680   \n",
       "video_duration_secs -0.003203  0.032368   0.097163    -0.457618      0.031861   \n",
       "title_characters    -0.085722 -0.007059  -0.286383    -0.101832     -0.033702   \n",
       "title_word_count    -0.077588 -0.020964  -0.276914    -0.101093     -0.035036   \n",
       "author_name_count    0.025418  0.058582  -0.033962     0.007007     -0.030845   \n",
       "\n",
       "                     like_dislike  video_duration_secs  title_characters  \\\n",
       "offset                  -0.038523            -0.003203         -0.085722   \n",
       "comments                -0.285970             0.032368         -0.007059   \n",
       "has_media               -0.086424             0.097163         -0.286383   \n",
       "has_picture             -0.011165            -0.457618         -0.101832   \n",
       "total_awards            -0.221680             0.031861         -0.033702   \n",
       "like_dislike             1.000000            -0.096547          0.060570   \n",
       "video_duration_secs     -0.096547             1.000000          0.022899   \n",
       "title_characters         0.060570             0.022899          1.000000   \n",
       "title_word_count         0.058256             0.023103          0.978673   \n",
       "author_name_count       -0.006475             0.004087         -0.033689   \n",
       "\n",
       "                     title_word_count  author_name_count  \n",
       "offset                      -0.077588           0.025418  \n",
       "comments                    -0.020964           0.058582  \n",
       "has_media                   -0.276914          -0.033962  \n",
       "has_picture                 -0.101093           0.007007  \n",
       "total_awards                -0.035036          -0.030845  \n",
       "like_dislike                 0.058256          -0.006475  \n",
       "video_duration_secs          0.023103           0.004087  \n",
       "title_characters             0.978673          -0.033689  \n",
       "title_word_count             1.000000          -0.028335  \n",
       "author_name_count           -0.028335           1.000000  "
      ]
     },
     "execution_count": 397,
     "metadata": {},
     "output_type": "execute_result"
    }
   ],
   "source": [
    "corr_set.corr()"
   ]
  },
  {
   "cell_type": "code",
   "execution_count": 398,
   "id": "010ddfce",
   "metadata": {
    "scrolled": true
   },
   "outputs": [
    {
     "data": {
      "image/png": "[encoded data removed]",
      "text/plain": [
       "<Figure size 842.4x595.44 with 2 Axes>"
      ]
     },
     "metadata": {},
     "output_type": "display_data"
    }
   ],
   "source": [
    "dataplot = sns.heatmap(corr_set.corr(), cmap=\"YlGnBu\", annot=True)"
   ]
  },
  {
   "cell_type": "markdown",
   "id": "82371228",
   "metadata": {},
   "source": [
    "There are some mild correlations but the major correlation is between `title_word_count` and `title_characters`. So, we will drop one of them."
   ]
  },
  {
   "cell_type": "code",
   "execution_count": 400,
   "id": "b3e1a73f",
   "metadata": {},
   "outputs": [],
   "source": [
    "new_dataset.drop('title_word_count', axis=1, inplace=True)"
   ]
  },
  {
   "cell_type": "code",
   "execution_count": 429,
   "id": "177c158f",
   "metadata": {},
   "outputs": [],
   "source": [
    "new_dataset.comments.fillna(0, inplace=True)"
   ]
  },
  {
   "cell_type": "markdown",
   "id": "1fa782d9",
   "metadata": {},
   "source": [
    "## Model Building\n",
    "\n",
    "Now, we will try to build a multilevel classification model and try to find if we can correctlhy predict the upvote range of the data. This is the variable that is visualised below."
   ]
  },
  {
   "cell_type": "code",
   "execution_count": 414,
   "id": "5483744b",
   "metadata": {},
   "outputs": [],
   "source": [
    "summary = pd.DataFrame(new_dataset.votes_bin.value_counts()).reset_index()\n",
    "summary.columns = ['bins', 'count']"
   ]
  },
  {
   "cell_type": "code",
   "execution_count": 420,
   "id": "6d96b8d3",
   "metadata": {},
   "outputs": [
    {
     "data": {
      "text/plain": [
       "[Text(0, 0, '[3809, 13809)'),\n",
       " Text(1, 0, '[13809, 23809)'),\n",
       " Text(2, 0, '[23809, 33809)'),\n",
       " Text(3, 0, '[33809, 43809)'),\n",
       " Text(4, 0, '[43809, 53809)'),\n",
       " Text(5, 0, '[53809, 63809)'),\n",
       " Text(6, 0, '[63809, 73809)'),\n",
       " Text(7, 0, '[73809, 83809)'),\n",
       " Text(8, 0, '[83809, 93809)'),\n",
       " Text(9, 0, '[93809, 103809)'),\n",
       " Text(10, 0, '[103809, 113809)'),\n",
       " Text(11, 0, '[113809, 123809)'),\n",
       " Text(12, 0, '[123809, 133809)'),\n",
       " Text(13, 0, '[133809, 143809)'),\n",
       " Text(14, 0, '[143809, 153809)')]"
      ]
     },
     "execution_count": 420,
     "metadata": {},
     "output_type": "execute_result"
    },
    {
     "data": {
      "image/png": "[encoded data removed]",
      "text/plain": [
       "<Figure size 842.4x595.44 with 1 Axes>"
      ]
     },
     "metadata": {},
     "output_type": "display_data"
    }
   ],
   "source": [
    "ax = sns.barplot(x='bins', y='count', data=summary)\n",
    "ax.set_xticklabels(ax.get_xticklabels(),rotation = 90)"
   ]
  },
  {
   "cell_type": "markdown",
   "id": "c16bc3ab",
   "metadata": {},
   "source": [
    "### Splitting the Data\n",
    "\n",
    "Below, we will split the data into a 75-25 ratio for Train and Test sets. "
   ]
  },
  {
   "cell_type": "code",
   "execution_count": 443,
   "id": "2e640053",
   "metadata": {},
   "outputs": [],
   "source": [
    "label_encoder = LabelEncoder()\n",
    "new_dataset['votes_bin']= label_encoder.fit_transform(new_dataset['votes_bin']) \n",
    "\n",
    "X_train, X_test, y_train, y_test = train_test_split(new_dataset.drop('votes_bin', axis=1), new_dataset['votes_bin'],\n",
    "                                                    test_size=0.25, random_state=42)"
   ]
  },
  {
   "cell_type": "markdown",
   "id": "c6b59d18",
   "metadata": {},
   "source": [
    "### Logistic Regression"
   ]
  },
  {
   "cell_type": "code",
   "execution_count": 444,
   "id": "292a00cf",
   "metadata": {},
   "outputs": [
    {
     "name": "stderr",
     "output_type": "code",
     "text": [
      "C:\\Users\\Daniel\\anaconda3\\envs\\stocks\\lib\\site-packages\\sklearn\\linear_model\\_logistic.py:765: ConvergenceWarning: lbfgs failed to converge (status=1):\n",
      "STOP: TOTAL NO. of ITERATIONS REACHED LIMIT.\n",
      "\n",
      "Increase the number of iterations (max_iter) or scale the data as shown in:\n",
      "    https://scikit-learn.org/stable/modules/preprocessing.html\n",
      "Please also refer to the documentation for alternative solver options:\n",
      "    https://scikit-learn.org/stable/modules/linear_model.html#logistic-regression\n",
      "  extra_warning_msg=_LOGISTIC_SOLVER_CONVERGENCE_MSG)\n"
     ]
    }
   ],
   "source": [
    "lr = LogisticRegression(random_state=42).fit(X_train, y_train)"
   ]
  },
  {
   "cell_type": "code",
   "execution_count": 463,
   "id": "f2c1b74a",
   "metadata": {},
   "outputs": [
    {
     "name": "stdout",
     "output_type": "stream",
     "text": [
      "The Train Accuracy for the Logistic Regression is 73.15%\n",
      "The Test Accuracy for the Logistic Regression is 73.71%\n"
     ]
    }
   ],
   "source": [
    "lr_train = round(lr.score(X_train, y_train)*100, 2)\n",
    "lr_test = round(lr.score(X_test, y_test)*100, 2)\n",
    "\n",
    "print(f'The Train Accuracy for the Logistic Regression is {lr_train}%')\n",
    "print(f'The Test Accuracy for the Logistic Regression is {lr_test}%')"
   ]
  },
  {
   "cell_type": "markdown",
   "id": "2b187e94",
   "metadata": {},
   "source": [
    "### Decision Tree"
   ]
  },
  {
   "cell_type": "code",
   "execution_count": 456,
   "id": "ede833ec",
   "metadata": {},
   "outputs": [],
   "source": [
    "dt = DecisionTreeClassifier(random_state=42).fit(X_train, y_train)"
   ]
  },
  {
   "cell_type": "code",
   "execution_count": 464,
   "id": "51e9ada6",
   "metadata": {},
   "outputs": [
    {
     "name": "stdout",
     "output_type": "stream",
     "text": [
      "The Train Accuracy for the Decision Tree is 100.0%\n",
      "The Test Accuracy for the Decision Tree is 98.97%\n"
     ]
    }
   ],
   "source": [
    "dt_train = round(dt.score(X_train, y_train)*100, 2)\n",
    "dt_test = round(dt.score(X_test, y_test)*100, 2)\n",
    "\n",
    "print(f'The Train Accuracy for the Decision Tree is {dt_train}%')\n",
    "print(f'The Test Accuracy for the Decision Tree is {dt_test}%')"
   ]
  },
  {
   "cell_type": "markdown",
   "id": "bd3135a0",
   "metadata": {},
   "source": [
    "### SVC"
   ]
  },
  {
   "cell_type": "code",
   "execution_count": 460,
   "id": "69ecbff4",
   "metadata": {},
   "outputs": [],
   "source": [
    "svc = SVC(random_state = 42).fit(X_train, y_train)"
   ]
  },
  {
   "cell_type": "code",
   "execution_count": 465,
   "id": "15a5ab07",
   "metadata": {},
   "outputs": [
    {
     "name": "stdout",
     "output_type": "stream",
     "text": [
      "The Train Accuracy for the SVC is 74.01%\n",
      "The Test Accuracy for the SVC is 73.71%\n"
     ]
    }
   ],
   "source": [
    "svc_train = round(svc.score(X_train, y_train)*100, 2)\n",
    "svc_test = round(svc.score(X_test, y_test)*100, 2)\n",
    "\n",
    "print(f'The Train Accuracy for the SVC is {svc_train}%')\n",
    "print(f'The Test Accuracy for the SVC is {svc_test}%')"
   ]
  },
  {
   "cell_type": "markdown",
   "id": "4e62e919",
   "metadata": {},
   "source": [
    "### Comparisons\n",
    "\n",
    "We will now compare the accuracies across the board."
   ]
  },
  {
   "cell_type": "code",
   "execution_count": 468,
   "id": "90644625",
   "metadata": {},
   "outputs": [],
   "source": [
    "train_list = pd.Series([lr_train, dt_train, svc_train])\n",
    "test_list = pd.Series([lr_test, dt_test, svc_test])\n",
    "models = pd.Series(['Logistic Regression', 'Decision Tree', 'SVC'])"
   ]
  },
  {
   "cell_type": "code",
   "execution_count": 472,
   "id": "07ea6f22",
   "metadata": {},
   "outputs": [
    {
     "data": {
      "text/html": [
       "<div>\n",
       "<style scoped>\n",
       "    .dataframe tbody tr th:only-of-type {\n",
       "        vertical-align: middle;\n",
       "    }\n",
       "\n",
       "    .dataframe tbody tr th {\n",
       "        vertical-align: top;\n",
       "    }\n",
       "\n",
       "    .dataframe thead th {\n",
       "        text-align: right;\n",
       "    }\n",
       "</style>\n",
       "<table border=\"1\" class=\"dataframe\">\n",
       "  <thead>\n",
       "    <tr style=\"text-align: right;\">\n",
       "      <th></th>\n",
       "      <th>model</th>\n",
       "      <th>train_accuracy</th>\n",
       "      <th>test_accuracy</th>\n",
       "    </tr>\n",
       "  </thead>\n",
       "  <tbody>\n",
       "    <tr>\n",
       "      <th>0</th>\n",
       "      <td>Logistic Regression</td>\n",
       "      <td>73.15</td>\n",
       "      <td>73.71</td>\n",
       "    </tr>\n",
       "    <tr>\n",
       "      <th>1</th>\n",
       "      <td>Decision Tree</td>\n",
       "      <td>100.00</td>\n",
       "      <td>98.97</td>\n",
       "    </tr>\n",
       "    <tr>\n",
       "      <th>2</th>\n",
       "      <td>SVC</td>\n",
       "      <td>74.01</td>\n",
       "      <td>73.71</td>\n",
       "    </tr>\n",
       "  </tbody>\n",
       "</table>\n",
       "</div>"
      ],
      "text/plain": [
       "                 model  train_accuracy  test_accuracy\n",
       "0  Logistic Regression           73.15          73.71\n",
       "1        Decision Tree          100.00          98.97\n",
       "2                  SVC           74.01          73.71"
      ]
     },
     "execution_count": 472,
     "metadata": {},
     "output_type": "execute_result"
    }
   ],
   "source": [
    "model_summary = pd.concat([models, train_list, test_list], axis=1)\n",
    "model_summary.columns = ['model', 'train_accuracy', 'test_accuracy']\n",
    "model_summary"
   ]
  },
  {
   "cell_type": "code",
   "execution_count": 474,
   "id": "b42cecad",
   "metadata": {},
   "outputs": [
    {
     "data": {
      "text/plain": [
       "<AxesSubplot:xlabel='model', ylabel='train_accuracy'>"
      ]
     },
     "execution_count": 474,
     "metadata": {},
     "output_type": "execute_result"
    },
    {
     "data": {
      "image/png": "[encoded data removed]",
      "text/plain": [
       "<Figure size 842.4x595.44 with 1 Axes>"
      ]
     },
     "metadata": {},
     "output_type": "display_data"
    }
   ],
   "source": [
    "sns.barplot(x='model', y='train_accuracy', data=model_summary)"
   ]
  },
  {
   "cell_type": "code",
   "execution_count": 475,
   "id": "6c29f3f1",
   "metadata": {},
   "outputs": [
    {
     "data": {
      "text/plain": [
       "<AxesSubplot:xlabel='model', ylabel='test_accuracy'>"
      ]
     },
     "execution_count": 475,
     "metadata": {},
     "output_type": "execute_result"
    },
    {
     "data": {
      "image/png": "[encoded data removed]",
      "text/plain": [
       "<Figure size 842.4x595.44 with 1 Axes>"
      ]
     },
     "metadata": {},
     "output_type": "display_data"
    }
   ],
   "source": [
    "sns.barplot(x='model', y='test_accuracy', data=model_summary)"
   ]
  },
  {
   "cell_type": "markdown",
   "id": "b0bb5ef2",
   "metadata": {},
   "source": [
    "# Conclusion\n",
    "\n",
    "From the above, we can conclude that a Decision Tree classifier can successfully predict the bin for the number of votes that a reddit post gets based on a list of factors (and some derived variables). This also factors in which subreddits the posts are posted in. All in all, it is interesting to see that with the data available right in front of the user's eyes, a user can make sense of what makes a post appear on the homepage, and what gives it a higher number of votes.\n",
    "\n",
    "As part of this exercise, we have built a crawler, then fetched some data, conducted EDA on it, transformed it into informative variables and then conducted modelling on the same. It has been a very interesting and intriguing exercise overall."
   ]
  }
 ],
 "metadata": {
  "kernelspec": {
   "display_name": "Python 3",
   "language": "python",
   "name": "python3"
  }
 },
 "nbformat": 4,
 "nbformat_minor": 5
}
